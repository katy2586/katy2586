{
  "nbformat": 4,
  "nbformat_minor": 0,
  "metadata": {
    "colab": {
      "provenance": [],
      "authorship_tag": "ABX9TyNKtJHbYQI78x6C7xSFcRVL",
      "include_colab_link": true
    },
    "kernelspec": {
      "name": "python3",
      "display_name": "Python 3"
    },
    "language_info": {
      "name": "python"
    }
  },
  "cells": [
    {
      "cell_type": "markdown",
      "metadata": {
        "id": "view-in-github",
        "colab_type": "text"
      },
      "source": [
        "<a href=\"https://colab.research.google.com/github/katy2586/katy2586/blob/main/DZ1_matriza_Kuraeva.ipynb\" target=\"_parent\"><img src=\"https://colab.research.google.com/assets/colab-badge.svg\" alt=\"Open In Colab\"/></a>"
      ]
    },
    {
      "cell_type": "code",
      "execution_count": null,
      "metadata": {
        "id": "HJ76LJl3wYH_"
      },
      "outputs": [],
      "source": []
    },
    {
      "cell_type": "code",
      "source": [
        "a = np.matrix ([[6, -8, 3]])\n",
        "b = np.matrix ([[1],\n",
        "                [1],\n",
        "                [4]])\n",
        "a*b"
      ],
      "metadata": {
        "colab": {
          "base_uri": "https://localhost:8080/"
        },
        "id": "zybfkflXRPdB",
        "outputId": "9e67dfb5-7c39-4f17-abc8-a324a649fd54"
      },
      "execution_count": null,
      "outputs": [
        {
          "output_type": "execute_result",
          "data": {
            "text/plain": [
              "matrix([[10]])"
            ]
          },
          "metadata": {},
          "execution_count": 20
        }
      ]
    },
    {
      "cell_type": "code",
      "source": [
        "c = np.matrix ([[-3, -7],\n",
        "                [-10, 6],\n",
        "                [0, -6],\n",
        "                [-1, -3]])\n",
        "d = np.matrix ([[-8, 9],\n",
        "                [4, -2]])\n",
        "c*d"
      ],
      "metadata": {
        "colab": {
          "base_uri": "https://localhost:8080/"
        },
        "id": "gp-7xF1zRoVS",
        "outputId": "ea067a8a-015d-4890-b1ac-54249f602c53"
      },
      "execution_count": null,
      "outputs": [
        {
          "output_type": "execute_result",
          "data": {
            "text/plain": [
              "matrix([[  -4,  -13],\n",
              "        [ 104, -102],\n",
              "        [ -24,   12],\n",
              "        [  -4,   -3]])"
            ]
          },
          "metadata": {},
          "execution_count": 22
        }
      ]
    }
  ]
}